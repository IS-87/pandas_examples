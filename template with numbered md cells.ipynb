{
 "cells": [
  {
   "cell_type": "markdown",
   "metadata": {},
   "source": [
    "## 1"
   ]
  },
  {
   "cell_type": "code",
   "execution_count": 1,
   "metadata": {},
   "outputs": [],
   "source": [
    "import numpy as np\n",
    "import pandas as pd\n",
    "import matplotlib.pyplot as plt\n",
    "from sklearn.linear_model import LinearRegression\n",
    "from sklearn.metrics import mean_squared_error"
   ]
  },
  {
   "cell_type": "code",
   "execution_count": 77,
   "metadata": {},
   "outputs": [],
   "source": [
    "train = pd.read_csv('AmesHousing.tsv', sep='\\t', index_col='Order')"
   ]
  },
  {
   "cell_type": "code",
   "execution_count": 106,
   "metadata": {},
   "outputs": [],
   "source": [
    "remove_na_pct_threshold = .25"
   ]
  },
  {
   "cell_type": "markdown",
   "metadata": {},
   "source": [
    "## Read Data Descriptions"
   ]
  },
  {
   "cell_type": "markdown",
   "metadata": {},
   "source": [
    "Need to check the number of missing values and read data descriptions to decide how to transform each column"
   ]
  },
  {
   "cell_type": "code",
   "execution_count": 78,
   "metadata": {},
   "outputs": [
    {
     "name": "stdout",
     "output_type": "stream",
     "text": [
      "Pool QC /  2917 missing (100%)\n",
      "Misc Feature /  2824 missing (96%)\n",
      "Alley /  2732 missing (93%)\n",
      "Fence /  2358 missing (80%)\n",
      "Fireplace Qu /  1422 missing (49%)\n",
      "Lot Frontage /  490 missing (17%)\n",
      "Garage Cond /  159 missing (5%)\n",
      "Garage Finish /  159 missing (5%)\n",
      "Garage Yr Blt /  159 missing (5%)\n",
      "Garage Qual /  159 missing (5%)\n",
      "Garage Type /  157 missing (5%)\n",
      "Bsmt Exposure /  83 missing (3%)\n",
      "BsmtFin Type 2 /  81 missing (3%)\n",
      "Bsmt Qual /  80 missing (3%)\n",
      "Bsmt Cond /  80 missing (3%)\n",
      "BsmtFin Type 1 /  80 missing (3%)\n",
      "Mas Vnr Area /  23 missing (1%)\n",
      "Mas Vnr Type /  23 missing (1%)\n",
      "Bsmt Half Bath /  2 missing (0%)\n",
      "Bsmt Full Bath /  2 missing (0%)\n",
      "BsmtFin SF 1 /  1 missing (0%)\n",
      "Garage Cars /  1 missing (0%)\n",
      "Electrical /  1 missing (0%)\n",
      "Total Bsmt SF /  1 missing (0%)\n",
      "Bsmt Unf SF /  1 missing (0%)\n",
      "BsmtFin SF 2 /  1 missing (0%)\n",
      "Garage Area /  1 missing (0%)\n",
      "Sale Condition /  0 missing (0%)\n",
      "Full Bath /  0 missing (0%)\n",
      "Half Bath /  0 missing (0%)\n",
      "Bedroom AbvGr /  0 missing (0%)\n",
      "Kitchen AbvGr /  0 missing (0%)\n",
      "Kitchen Qual /  0 missing (0%)\n",
      "TotRms AbvGrd /  0 missing (0%)\n",
      "Functional /  0 missing (0%)\n",
      "Paved Drive /  0 missing (0%)\n",
      "Sale Type /  0 missing (0%)\n",
      "Yr Sold /  0 missing (0%)\n",
      "Mo Sold /  0 missing (0%)\n",
      "Misc Val /  0 missing (0%)\n",
      "Fireplaces /  0 missing (0%)\n",
      "Pool Area /  0 missing (0%)\n",
      "Screen Porch /  0 missing (0%)\n",
      "3Ssn Porch /  0 missing (0%)\n",
      "Enclosed Porch /  0 missing (0%)\n",
      "Open Porch SF /  0 missing (0%)\n",
      "Wood Deck SF /  0 missing (0%)\n",
      "PID /  0 missing (0%)\n",
      "Heating QC /  0 missing (0%)\n",
      "Gr Liv Area /  0 missing (0%)\n",
      "Low Qual Fin SF /  0 missing (0%)\n",
      "MS Zoning /  0 missing (0%)\n",
      "Lot Area /  0 missing (0%)\n",
      "Street /  0 missing (0%)\n",
      "Lot Shape /  0 missing (0%)\n",
      "Land Contour /  0 missing (0%)\n",
      "Utilities /  0 missing (0%)\n",
      "Lot Config /  0 missing (0%)\n",
      "Land Slope /  0 missing (0%)\n",
      "Neighborhood /  0 missing (0%)\n",
      "Condition 1 /  0 missing (0%)\n",
      "Condition 2 /  0 missing (0%)\n",
      "Bldg Type /  0 missing (0%)\n",
      "House Style /  0 missing (0%)\n",
      "Overall Qual /  0 missing (0%)\n",
      "Overall Cond /  0 missing (0%)\n",
      "Year Built /  0 missing (0%)\n",
      "Year Remod/Add /  0 missing (0%)\n",
      "Roof Style /  0 missing (0%)\n",
      "Roof Matl /  0 missing (0%)\n",
      "Exterior 1st /  0 missing (0%)\n",
      "Exterior 2nd /  0 missing (0%)\n",
      "Exter Qual /  0 missing (0%)\n",
      "Exter Cond /  0 missing (0%)\n",
      "Foundation /  0 missing (0%)\n",
      "Heating /  0 missing (0%)\n",
      "MS SubClass /  0 missing (0%)\n",
      "Central Air /  0 missing (0%)\n",
      "1st Flr SF /  0 missing (0%)\n",
      "2nd Flr SF /  0 missing (0%)\n",
      "SalePrice /  0 missing (0%)\n"
     ]
    }
   ],
   "source": [
    "number_rows_na = train.isna().sum().sort_values(ascending=False)\n",
    "for index, row in zip(number_rows_na.index, number_rows_na):\n",
    "    print(index + ' / ', str(row) + ' missing (' + str(round(row/len(modified_train)*100, 0)).replace('.0', '') + '%)')"
   ]
  },
  {
   "cell_type": "markdown",
   "metadata": {},
   "source": [
    "### Manual Transform"
   ]
  },
  {
   "cell_type": "markdown",
   "metadata": {},
   "source": [
    "Before applying brute force feature selection methods it is a good idea to investigate features more closely and see what they represent."
   ]
  },
  {
   "cell_type": "markdown",
   "metadata": {},
   "source": [
    "Removing sales between family members, because a variety of special deals may be involved, the details of which are unknown, as is the combined effect. Luckily, fewer than 50 of almost 3,000 data points involve family sales."
   ]
  },
  {
   "cell_type": "code",
   "execution_count": 79,
   "metadata": {},
   "outputs": [],
   "source": [
    "# modified_train['Pool QC'] = modified_train['Pool QC'].fillna('No Pool')"
   ]
  },
  {
   "cell_type": "code",
   "execution_count": 80,
   "metadata": {},
   "outputs": [],
   "source": [
    "# # NA value in Pool QC indicates no pool, not missing data\n",
    "# modified_train['Pool QC'] = modified_train['Pool QC'].fillna('No Pool')"
   ]
  },
  {
   "cell_type": "code",
   "execution_count": 116,
   "metadata": {},
   "outputs": [],
   "source": [
    "# # Misc Feature and Val are too sparsely populated\n",
    "# modified_train.drop('Misc Feature', axis='columns', inplace=True)\n",
    "# modified_train.drop('Misc Val', axis='columns', inplace=True)"
   ]
  },
  {
   "cell_type": "code",
   "execution_count": 82,
   "metadata": {},
   "outputs": [],
   "source": [
    "# # Alley is too sparsely populated\n",
    "# modified_train.drop('Alley', axis='columns', inplace=True)"
   ]
  },
  {
   "cell_type": "code",
   "execution_count": 83,
   "metadata": {},
   "outputs": [],
   "source": [
    "# # NA value in Fence indicates no fence, not missing data\n",
    "# modified_train['Fence'] = modified_train['Fence'].fillna('No Fence')"
   ]
  },
  {
   "cell_type": "code",
   "execution_count": 84,
   "metadata": {},
   "outputs": [],
   "source": [
    "# # NA value in Fireplace Qu indicates no fireplace, not missing data\n",
    "# modified_train['Fireplace Qu'] = modified_train['Fireplace Qu'].fillna('No Fireplace')"
   ]
  },
  {
   "cell_type": "code",
   "execution_count": 94,
   "metadata": {},
   "outputs": [],
   "source": [
    "# # NA values in the four garage columns indicate no garage, not missing data\n",
    "# modified_train['Garage Cond'] = modified_train['Garage Cond'].fillna('No Garage')\n",
    "# modified_train['Garage Finish'] = modified_train['Garage Finish'].fillna('No Garage')\n",
    "# modified_train['Garage Qual'] = modified_train['Garage Qual'].fillna('No Garage')\n",
    "# modified_train['Garage Type'] = modified_train['Garage Type'].fillna('No Garage')"
   ]
  },
  {
   "cell_type": "code",
   "execution_count": 95,
   "metadata": {},
   "outputs": [],
   "source": [
    "# # with multiple features describing garage in detail, garage year built does not add a lot of value to the model\n",
    "# modified_train.drop('Garage Yr Blt', axis='columns', inplace=True)"
   ]
  },
  {
   "cell_type": "code",
   "execution_count": 99,
   "metadata": {},
   "outputs": [],
   "source": [
    "# # NA values in the five basement columns indicate no basement, not missing data\n",
    "# modified_train['Bsmt Exposure'] = modified_train['Bsmt Exposure'].fillna('No Basement')\n",
    "# modified_train['BsmtFin Type 2'] = modified_train['BsmtFin Type 2'].fillna('No Basement')\n",
    "# modified_train['Bsmt Qual'] = modified_train['Bsmt Qual'].fillna('No Basement')\n",
    "# modified_train['Bsmt Cond'] = modified_train['Bsmt Cond'].fillna('No Basement')\n",
    "# modified_train['BsmtFin Type 1'] = modified_train['BsmtFin Type 1'].fillna('No Basement')"
   ]
  },
  {
   "cell_type": "code",
   "execution_count": 87,
   "metadata": {},
   "outputs": [
    {
     "data": {
      "text/plain": [
       "NaN      490\n",
       "60.0     276\n",
       "80.0     137\n",
       "70.0     133\n",
       "50.0     117\n",
       "        ... \n",
       "195.0      1\n",
       "137.0      1\n",
       "135.0      1\n",
       "22.0       1\n",
       "153.0      1\n",
       "Name: Lot Frontage, Length: 129, dtype: int64"
      ]
     },
     "execution_count": 87,
     "metadata": {},
     "output_type": "execute_result"
    }
   ],
   "source": [
    "# # investigate missing values in Lot Frontage\n",
    "# modified_train['Lot Frontage'].value_counts(dropna=False)"
   ]
  },
  {
   "cell_type": "markdown",
   "metadata": {},
   "source": [
    "Nothing indicates that missing values really represent 0 feet of street connected to property, and this feature has too many missing values, let's remove this column."
   ]
  },
  {
   "cell_type": "code",
   "execution_count": 92,
   "metadata": {},
   "outputs": [],
   "source": [
    "# modified_train.drop('Lot Frontage', axis='columns', inplace=True)"
   ]
  },
  {
   "cell_type": "code",
   "execution_count": 102,
   "metadata": {},
   "outputs": [],
   "source": [
    "# # property ID, not useful for modeling\n",
    "# modified_train.drop('PID', axis='columns', inplace=True)"
   ]
  },
  {
   "cell_type": "code",
   "execution_count": 108,
   "metadata": {},
   "outputs": [],
   "source": [
    "# dataframe_len = len(modified_train)\n",
    "# threshold = dataframe_len * remove_na_pct_threshold\n",
    "# missing_counts = modified_train.isna().sum()\n",
    "# keep_cols = missing_counts[missing_counts < threshold].index\n",
    "# modified_train = modified_train[keep_cols]"
   ]
  },
  {
   "cell_type": "code",
   "execution_count": 110,
   "metadata": {},
   "outputs": [],
   "source": [
    "# # remove rows with missing values\n",
    "# modified_train.dropna(inplace=True)"
   ]
  },
  {
   "cell_type": "code",
   "execution_count": 117,
   "metadata": {},
   "outputs": [
    {
     "name": "stdout",
     "output_type": "stream",
     "text": [
      "MS SubClass /  0 missing (0%)\n",
      "Garage Finish /  0 missing (0%)\n",
      "Fireplace Qu /  0 missing (0%)\n",
      "Fireplaces /  0 missing (0%)\n",
      "Functional /  0 missing (0%)\n",
      "TotRms AbvGrd /  0 missing (0%)\n",
      "Kitchen Qual /  0 missing (0%)\n",
      "Kitchen AbvGr /  0 missing (0%)\n",
      "Bedroom AbvGr /  0 missing (0%)\n",
      "Half Bath /  0 missing (0%)\n",
      "Full Bath /  0 missing (0%)\n",
      "Bsmt Half Bath /  0 missing (0%)\n",
      "Bsmt Full Bath /  0 missing (0%)\n",
      "Gr Liv Area /  0 missing (0%)\n",
      "Low Qual Fin SF /  0 missing (0%)\n",
      "2nd Flr SF /  0 missing (0%)\n",
      "1st Flr SF /  0 missing (0%)\n",
      "Garage Type /  0 missing (0%)\n",
      "Garage Cars /  0 missing (0%)\n",
      "Central Air /  0 missing (0%)\n",
      "Garage Area /  0 missing (0%)\n",
      "Sale Condition /  0 missing (0%)\n",
      "Sale Type /  0 missing (0%)\n",
      "Yr Sold /  0 missing (0%)\n",
      "Mo Sold /  0 missing (0%)\n",
      "Fence /  0 missing (0%)\n",
      "Pool QC /  0 missing (0%)\n",
      "Pool Area /  0 missing (0%)\n",
      "Screen Porch /  0 missing (0%)\n",
      "3Ssn Porch /  0 missing (0%)\n",
      "Enclosed Porch /  0 missing (0%)\n",
      "Open Porch SF /  0 missing (0%)\n",
      "Wood Deck SF /  0 missing (0%)\n",
      "Paved Drive /  0 missing (0%)\n",
      "Garage Cond /  0 missing (0%)\n",
      "Garage Qual /  0 missing (0%)\n",
      "Electrical /  0 missing (0%)\n",
      "Heating QC /  0 missing (0%)\n",
      "MS Zoning /  0 missing (0%)\n",
      "Roof Style /  0 missing (0%)\n",
      "Year Built /  0 missing (0%)\n",
      "Overall Cond /  0 missing (0%)\n",
      "Overall Qual /  0 missing (0%)\n",
      "House Style /  0 missing (0%)\n",
      "Bldg Type /  0 missing (0%)\n",
      "Condition 2 /  0 missing (0%)\n",
      "Condition 1 /  0 missing (0%)\n",
      "Neighborhood /  0 missing (0%)\n",
      "Land Slope /  0 missing (0%)\n",
      "Lot Config /  0 missing (0%)\n",
      "Utilities /  0 missing (0%)\n",
      "Land Contour /  0 missing (0%)\n",
      "Lot Shape /  0 missing (0%)\n",
      "Street /  0 missing (0%)\n",
      "Lot Area /  0 missing (0%)\n",
      "Year Remod/Add /  0 missing (0%)\n",
      "Roof Matl /  0 missing (0%)\n",
      "Heating /  0 missing (0%)\n",
      "Exterior 1st /  0 missing (0%)\n",
      "Total Bsmt SF /  0 missing (0%)\n",
      "Bsmt Unf SF /  0 missing (0%)\n",
      "BsmtFin SF 2 /  0 missing (0%)\n",
      "BsmtFin Type 2 /  0 missing (0%)\n",
      "BsmtFin SF 1 /  0 missing (0%)\n",
      "BsmtFin Type 1 /  0 missing (0%)\n",
      "Bsmt Exposure /  0 missing (0%)\n",
      "Bsmt Cond /  0 missing (0%)\n",
      "Bsmt Qual /  0 missing (0%)\n",
      "Foundation /  0 missing (0%)\n",
      "Exter Cond /  0 missing (0%)\n",
      "Exter Qual /  0 missing (0%)\n",
      "Mas Vnr Area /  0 missing (0%)\n",
      "Mas Vnr Type /  0 missing (0%)\n",
      "Exterior 2nd /  0 missing (0%)\n",
      "SalePrice /  0 missing (0%)\n"
     ]
    }
   ],
   "source": [
    "number_rows_na_after_transform = modified_train.isna().sum().sort_values(ascending=False)\n",
    "for index, row in zip(number_rows_na_after_transform.index, number_rows_na_after_transform):\n",
    "    print(index + ' / ', str(row) + ' missing (' + str(round(row/len(modified_train)*100, 0)).replace('.0', '') + '%)')"
   ]
  },
  {
   "cell_type": "code",
   "execution_count": 120,
   "metadata": {},
   "outputs": [],
   "source": [
    "# convert yr built to age when sold\n",
    "modified_train['Age'] = modified_train['Yr Sold'] - modified_train['Year Built']\n",
    "# create years since remodel\n",
    "modified_train['Years Since Built/Remodel'] = modified_train['Yr Sold'] - modified_train['Year Remod/Add']\n",
    "# remove years, month\n",
    "modified_train.drop(['Yr Sold', 'Year Built', 'Year Remod/Add', 'Mo Sold'], axis='columns', inplace=True)"
   ]
  },
  {
   "cell_type": "code",
   "execution_count": 121,
   "metadata": {},
   "outputs": [
    {
     "name": "stdout",
     "output_type": "stream",
     "text": [
      "<class 'pandas.core.frame.DataFrame'>\n",
      "Int64Index: 2903 entries, 1 to 2930\n",
      "Data columns (total 73 columns):\n",
      " #   Column                     Non-Null Count  Dtype   \n",
      "---  ------                     --------------  -----   \n",
      " 0   MS SubClass                2903 non-null   category\n",
      " 1   MS Zoning                  2903 non-null   object  \n",
      " 2   Lot Area                   2903 non-null   int64   \n",
      " 3   Street                     2903 non-null   object  \n",
      " 4   Lot Shape                  2903 non-null   object  \n",
      " 5   Land Contour               2903 non-null   object  \n",
      " 6   Utilities                  2903 non-null   object  \n",
      " 7   Lot Config                 2903 non-null   object  \n",
      " 8   Land Slope                 2903 non-null   object  \n",
      " 9   Neighborhood               2903 non-null   object  \n",
      " 10  Condition 1                2903 non-null   object  \n",
      " 11  Condition 2                2903 non-null   object  \n",
      " 12  Bldg Type                  2903 non-null   object  \n",
      " 13  House Style                2903 non-null   object  \n",
      " 14  Overall Qual               2903 non-null   int64   \n",
      " 15  Overall Cond               2903 non-null   int64   \n",
      " 16  Roof Style                 2903 non-null   object  \n",
      " 17  Roof Matl                  2903 non-null   object  \n",
      " 18  Exterior 1st               2903 non-null   object  \n",
      " 19  Exterior 2nd               2903 non-null   object  \n",
      " 20  Mas Vnr Type               2903 non-null   object  \n",
      " 21  Mas Vnr Area               2903 non-null   float64 \n",
      " 22  Exter Qual                 2903 non-null   object  \n",
      " 23  Exter Cond                 2903 non-null   object  \n",
      " 24  Foundation                 2903 non-null   object  \n",
      " 25  Bsmt Qual                  2903 non-null   object  \n",
      " 26  Bsmt Cond                  2903 non-null   object  \n",
      " 27  Bsmt Exposure              2903 non-null   object  \n",
      " 28  BsmtFin Type 1             2903 non-null   object  \n",
      " 29  BsmtFin SF 1               2903 non-null   float64 \n",
      " 30  BsmtFin Type 2             2903 non-null   object  \n",
      " 31  BsmtFin SF 2               2903 non-null   float64 \n",
      " 32  Bsmt Unf SF                2903 non-null   float64 \n",
      " 33  Total Bsmt SF              2903 non-null   float64 \n",
      " 34  Heating                    2903 non-null   object  \n",
      " 35  Heating QC                 2903 non-null   object  \n",
      " 36  Central Air                2903 non-null   object  \n",
      " 37  Electrical                 2903 non-null   object  \n",
      " 38  1st Flr SF                 2903 non-null   int64   \n",
      " 39  2nd Flr SF                 2903 non-null   int64   \n",
      " 40  Low Qual Fin SF            2903 non-null   int64   \n",
      " 41  Gr Liv Area                2903 non-null   int64   \n",
      " 42  Bsmt Full Bath             2903 non-null   float64 \n",
      " 43  Bsmt Half Bath             2903 non-null   float64 \n",
      " 44  Full Bath                  2903 non-null   int64   \n",
      " 45  Half Bath                  2903 non-null   int64   \n",
      " 46  Bedroom AbvGr              2903 non-null   int64   \n",
      " 47  Kitchen AbvGr              2903 non-null   int64   \n",
      " 48  Kitchen Qual               2903 non-null   object  \n",
      " 49  TotRms AbvGrd              2903 non-null   int64   \n",
      " 50  Functional                 2903 non-null   object  \n",
      " 51  Fireplaces                 2903 non-null   int64   \n",
      " 52  Fireplace Qu               2903 non-null   object  \n",
      " 53  Garage Type                2903 non-null   object  \n",
      " 54  Garage Finish              2903 non-null   object  \n",
      " 55  Garage Cars                2903 non-null   float64 \n",
      " 56  Garage Area                2903 non-null   float64 \n",
      " 57  Garage Qual                2903 non-null   object  \n",
      " 58  Garage Cond                2903 non-null   object  \n",
      " 59  Paved Drive                2903 non-null   object  \n",
      " 60  Wood Deck SF               2903 non-null   int64   \n",
      " 61  Open Porch SF              2903 non-null   int64   \n",
      " 62  Enclosed Porch             2903 non-null   int64   \n",
      " 63  3Ssn Porch                 2903 non-null   int64   \n",
      " 64  Screen Porch               2903 non-null   int64   \n",
      " 65  Pool Area                  2903 non-null   int64   \n",
      " 66  Pool QC                    2903 non-null   object  \n",
      " 67  Fence                      2903 non-null   object  \n",
      " 68  Sale Type                  2903 non-null   object  \n",
      " 69  Sale Condition             2903 non-null   object  \n",
      " 70  SalePrice                  2903 non-null   int64   \n",
      " 71  Age                        2903 non-null   int64   \n",
      " 72  Years Since Built/Remodel  2903 non-null   int64   \n",
      "dtypes: category(1), float64(9), int64(22), object(41)\n",
      "memory usage: 1.6+ MB\n"
     ]
    }
   ],
   "source": [
    "# check data types\n",
    "modified_train.info()"
   ]
  },
  {
   "cell_type": "code",
   "execution_count": 115,
   "metadata": {},
   "outputs": [],
   "source": [
    "modified_train['MS SubClass'] = modified_train['MS SubClass'].astype('category') # this feature is categorical, not numeric"
   ]
  },
  {
   "cell_type": "code",
   "execution_count": null,
   "metadata": {},
   "outputs": [],
   "source": []
  },
  {
   "cell_type": "code",
   "execution_count": 32,
   "metadata": {},
   "outputs": [
    {
     "name": "stdout",
     "output_type": "stream",
     "text": [
      "             PID  MS SubClass MS Zoning  Lot Frontage  Lot Area\n",
      "Order                                                          \n",
      "1      526301100           20        RL         141.0     31770\n",
      "2      526350040           20        RH          80.0     11622\n",
      "3      526351010           20        RL          81.0     14267\n",
      "4      526353030           20        RL          93.0     11160\n",
      "5      527105010           60        RL          74.0     13830\n",
      "      Street Alley Lot Shape Land Contour Utilities\n",
      "Order                                              \n",
      "1       Pave   NaN       IR1          Lvl    AllPub\n",
      "2       Pave   NaN       Reg          Lvl    AllPub\n",
      "3       Pave   NaN       IR1          Lvl    AllPub\n",
      "4       Pave   NaN       Reg          Lvl    AllPub\n",
      "5       Pave   NaN       IR1          Lvl    AllPub\n",
      "      Lot Config Land Slope Neighborhood Condition 1 Condition 2\n",
      "Order                                                           \n",
      "1         Corner        Gtl        NAmes        Norm        Norm\n",
      "2         Inside        Gtl        NAmes       Feedr        Norm\n",
      "3         Corner        Gtl        NAmes        Norm        Norm\n",
      "4         Corner        Gtl        NAmes        Norm        Norm\n",
      "5         Inside        Gtl      Gilbert        Norm        Norm\n",
      "      Bldg Type House Style  Overall Qual  Overall Cond  Year Built\n",
      "Order                                                              \n",
      "1          1Fam      1Story             6             5        1960\n",
      "2          1Fam      1Story             5             6        1961\n",
      "3          1Fam      1Story             6             6        1958\n",
      "4          1Fam      1Story             7             5        1968\n",
      "5          1Fam      2Story             5             5        1997\n",
      "       Year Remod/Add Roof Style Roof Matl Exterior 1st Exterior 2nd\n",
      "Order                                                               \n",
      "1                1960        Hip   CompShg      BrkFace      Plywood\n",
      "2                1961      Gable   CompShg      VinylSd      VinylSd\n",
      "3                1958        Hip   CompShg      Wd Sdng      Wd Sdng\n",
      "4                1968        Hip   CompShg      BrkFace      BrkFace\n",
      "5                1998      Gable   CompShg      VinylSd      VinylSd\n",
      "      Mas Vnr Type  Mas Vnr Area Exter Qual Exter Cond Foundation\n",
      "Order                                                            \n",
      "1            Stone         112.0         TA         TA     CBlock\n",
      "2             None           0.0         TA         TA     CBlock\n",
      "3          BrkFace         108.0         TA         TA     CBlock\n",
      "4             None           0.0         Gd         TA     CBlock\n",
      "5             None           0.0         TA         TA      PConc\n",
      "      Bsmt Qual Bsmt Cond Bsmt Exposure BsmtFin Type 1  BsmtFin SF 1\n",
      "Order                                                               \n",
      "1            TA        Gd            Gd            BLQ         639.0\n",
      "2            TA        TA            No            Rec         468.0\n",
      "3            TA        TA            No            ALQ         923.0\n",
      "4            TA        TA            No            ALQ        1065.0\n",
      "5            Gd        TA            No            GLQ         791.0\n",
      "      BsmtFin Type 2  BsmtFin SF 2  Bsmt Unf SF  Total Bsmt SF Heating\n",
      "Order                                                                 \n",
      "1                Unf           0.0        441.0         1080.0    GasA\n",
      "2                LwQ         144.0        270.0          882.0    GasA\n",
      "3                Unf           0.0        406.0         1329.0    GasA\n",
      "4                Unf           0.0       1045.0         2110.0    GasA\n",
      "5                Unf           0.0        137.0          928.0    GasA\n",
      "      Heating QC Central Air Electrical  1st Flr SF  2nd Flr SF\n",
      "Order                                                          \n",
      "1             Fa           Y      SBrkr        1656           0\n",
      "2             TA           Y      SBrkr         896           0\n",
      "3             TA           Y      SBrkr        1329           0\n",
      "4             Ex           Y      SBrkr        2110           0\n",
      "5             Gd           Y      SBrkr         928         701\n",
      "       Low Qual Fin SF  Gr Liv Area  Bsmt Full Bath  Bsmt Half Bath  Full Bath\n",
      "Order                                                                         \n",
      "1                    0         1656             1.0             0.0          1\n",
      "2                    0          896             0.0             0.0          1\n",
      "3                    0         1329             0.0             0.0          1\n",
      "4                    0         2110             1.0             0.0          2\n",
      "5                    0         1629             0.0             0.0          2\n",
      "       Half Bath  Bedroom AbvGr  Kitchen AbvGr Kitchen Qual  TotRms AbvGrd\n",
      "Order                                                                     \n",
      "1              0              3              1           TA              7\n",
      "2              0              2              1           TA              5\n",
      "3              1              3              1           Gd              6\n",
      "4              1              3              1           Ex              8\n",
      "5              1              3              1           TA              6\n",
      "      Functional  Fireplaces Fireplace Qu Garage Type  Garage Yr Blt\n",
      "Order                                                               \n",
      "1            Typ           2           Gd      Attchd         1960.0\n",
      "2            Typ           0          NaN      Attchd         1961.0\n",
      "3            Typ           0          NaN      Attchd         1958.0\n",
      "4            Typ           2           TA      Attchd         1968.0\n",
      "5            Typ           1           TA      Attchd         1997.0\n",
      "      Garage Finish  Garage Cars  Garage Area Garage Qual Garage Cond\n",
      "Order                                                                \n",
      "1               Fin          2.0        528.0          TA          TA\n",
      "2               Unf          1.0        730.0          TA          TA\n",
      "3               Unf          1.0        312.0          TA          TA\n",
      "4               Fin          2.0        522.0          TA          TA\n",
      "5               Fin          2.0        482.0          TA          TA\n",
      "      Paved Drive  Wood Deck SF  Open Porch SF  Enclosed Porch  3Ssn Porch\n",
      "Order                                                                     \n",
      "1               P           210             62               0           0\n",
      "2               Y           140              0               0           0\n",
      "3               Y           393             36               0           0\n",
      "4               Y             0              0               0           0\n",
      "5               Y           212             34               0           0\n",
      "       Screen Porch  Pool Area Pool QC  Fence Misc Feature\n",
      "Order                                                     \n",
      "1                 0          0     NaN    NaN          NaN\n",
      "2               120          0     NaN  MnPrv          NaN\n",
      "3                 0          0     NaN    NaN         Gar2\n",
      "4                 0          0     NaN    NaN          NaN\n",
      "5                 0          0     NaN  MnPrv          NaN\n",
      "       Misc Val  Mo Sold  Yr Sold Sale Type Sale Condition\n",
      "Order                                                     \n",
      "1             0        5     2010       WD          Normal\n",
      "2             0        6     2010       WD          Normal\n",
      "3         12500        6     2010       WD          Normal\n",
      "4             0        4     2010       WD          Normal\n",
      "5             0        3     2010       WD          Normal\n"
     ]
    }
   ],
   "source": [
    "for rng_start, rng_end in zip(range(0, 79, 5), range(5, 85, 5)):\n",
    "    print(train[train.columns[rng_start: rng_end]].head())"
   ]
  },
  {
   "cell_type": "code",
   "execution_count": 17,
   "metadata": {},
   "outputs": [],
   "source": [
    "def transform_features(dataframe):\n",
    "    modified_train = dataframe.copy()\n",
    "    # NA value in Pool QC indicates no pool, not missing data\n",
    "    modified_train['Pool QC'] = modified_train['Pool QC'].fillna('No Pool')\n",
    "    # Misc Feature and Val are too sparsely populated\n",
    "modified_train.drop('Misc Feature', axis='columns', inplace=True)\n",
    "modified_train.drop('Misc Val', axis='columns', inplace=True)\n",
    "    # Alley is too sparsely populated\n",
    "modified_train.drop('Alley', axis='columns', inplace=True)\n",
    "    # NA value in Fence indicates no fence, not missing data\n",
    "modified_train['Fence'] = modified_train['Fence'].fillna('No Fence')\n",
    "    # NA value in Fireplace Qu indicates no fireplace, not missing data\n",
    "modified_train['Fireplace Qu'] = modified_train['Fireplace Qu'].fillna('No Fireplace')\n",
    "# NA values in the four garage columns indicate no garage, not missing data\n",
    "modified_train['Garage Cond'] = modified_train['Garage Cond'].fillna('No Garage')\n",
    "modified_train['Garage Finish'] = modified_train['Garage Finish'].fillna('No Garage')\n",
    "modified_train['Garage Qual'] = modified_train['Garage Qual'].fillna('No Garage')\n",
    "modified_train['Garage Type'] = modified_train['Garage Type'].fillna('No Garage')\n",
    "# with multiple features describing garage in detail, garage year built does not add a lot of value to the model\n",
    "modified_train.drop('Garage Yr Blt', axis='columns', inplace=True)\n",
    "# NA values in the five basement columns indicate no basement, not missing data\n",
    "modified_train['Bsmt Exposure'] = modified_train['Bsmt Exposure'].fillna('No Basement')\n",
    "modified_train['BsmtFin Type 2'] = modified_train['BsmtFin Type 2'].fillna('No Basement')\n",
    "modified_train['Bsmt Qual'] = modified_train['Bsmt Qual'].fillna('No Basement')\n",
    "modified_train['Bsmt Cond'] = modified_train['Bsmt Cond'].fillna('No Basement')\n",
    "modified_train['BsmtFin Type 1'] = modified_train['BsmtFin Type 1'].fillna('No Basement')\n",
    "# investigate missing values in Lot Frontage\n",
    "modified_train['Lot Frontage'].value_counts(dropna=False)\n",
    "modified_train.drop('Lot Frontage', axis='columns', inplace=True)\n",
    "# property ID, not useful for modeling\n",
    "modified_train.drop('PID', axis='columns', inplace=True)\n",
    "# remove remaining columns that have number of missing values greater than threshold specified\n",
    "dataframe_len = len(modified_train)\n",
    "threshold = dataframe_len * remove_na_pct_threshold\n",
    "missing_counts = modified_train.isna().sum()\n",
    "keep_cols = missing_counts[missing_counts < threshold].index\n",
    "modified_train = modified_train[keep_cols]\n",
    "# remove rows with missing values\n",
    "modified_train.dropna(inplace=True)\n",
    "\n",
    "\n",
    "\n",
    "    modified_train = train[train['Sale Type'] != 'Family']\n",
    "    return dataframe"
   ]
  },
  {
   "cell_type": "code",
   "execution_count": 18,
   "metadata": {},
   "outputs": [],
   "source": [
    "\n",
    "\n",
    "def select_features(dataframe):\n",
    "    return dataframe[['Gr Liv Area', 'SalePrice']]\n",
    "\n",
    "def train_and_test(dataframe):\n",
    "    train = dataframe[:1460]\n",
    "    test = dataframe[1460:]\n",
    "    linear_model = LinearRegression()\n",
    "    train_cols = dataframe.columns.drop('SalePrice')\n",
    "    target_col = 'SalePrice'\n",
    "    linear_model.fit(dataframe[train_cols], dataframe[target_col])\n",
    "    predictions = linear_model.predict(test[train_cols])\n",
    "    return np.sqrt(mean_squared_error(test[target_col], predictions))"
   ]
  },
  {
   "cell_type": "markdown",
   "metadata": {},
   "source": [
    "## 2"
   ]
  },
  {
   "cell_type": "code",
   "execution_count": 21,
   "metadata": {},
   "outputs": [
    {
     "data": {
      "text/html": [
       "<div>\n",
       "<style scoped>\n",
       "    .dataframe tbody tr th:only-of-type {\n",
       "        vertical-align: middle;\n",
       "    }\n",
       "\n",
       "    .dataframe tbody tr th {\n",
       "        vertical-align: top;\n",
       "    }\n",
       "\n",
       "    .dataframe thead th {\n",
       "        text-align: right;\n",
       "    }\n",
       "</style>\n",
       "<table border=\"1\" class=\"dataframe\">\n",
       "  <thead>\n",
       "    <tr style=\"text-align: right;\">\n",
       "      <th></th>\n",
       "      <th>MS SubClass</th>\n",
       "      <th>MS Zoning</th>\n",
       "      <th>Lot Frontage</th>\n",
       "      <th>Lot Area</th>\n",
       "      <th>Street</th>\n",
       "      <th>Alley</th>\n",
       "      <th>Lot Shape</th>\n",
       "      <th>Land Contour</th>\n",
       "      <th>Utilities</th>\n",
       "      <th>Lot Config</th>\n",
       "      <th>...</th>\n",
       "      <th>Pool Area</th>\n",
       "      <th>Pool QC</th>\n",
       "      <th>Fence</th>\n",
       "      <th>Misc Feature</th>\n",
       "      <th>Misc Val</th>\n",
       "      <th>Mo Sold</th>\n",
       "      <th>Yr Sold</th>\n",
       "      <th>Sale Type</th>\n",
       "      <th>Sale Condition</th>\n",
       "      <th>SalePrice</th>\n",
       "    </tr>\n",
       "    <tr>\n",
       "      <th>Order</th>\n",
       "      <th></th>\n",
       "      <th></th>\n",
       "      <th></th>\n",
       "      <th></th>\n",
       "      <th></th>\n",
       "      <th></th>\n",
       "      <th></th>\n",
       "      <th></th>\n",
       "      <th></th>\n",
       "      <th></th>\n",
       "      <th></th>\n",
       "      <th></th>\n",
       "      <th></th>\n",
       "      <th></th>\n",
       "      <th></th>\n",
       "      <th></th>\n",
       "      <th></th>\n",
       "      <th></th>\n",
       "      <th></th>\n",
       "      <th></th>\n",
       "      <th></th>\n",
       "    </tr>\n",
       "  </thead>\n",
       "  <tbody>\n",
       "    <tr>\n",
       "      <th>1</th>\n",
       "      <td>20</td>\n",
       "      <td>RL</td>\n",
       "      <td>141.0</td>\n",
       "      <td>31770</td>\n",
       "      <td>Pave</td>\n",
       "      <td>NaN</td>\n",
       "      <td>IR1</td>\n",
       "      <td>Lvl</td>\n",
       "      <td>AllPub</td>\n",
       "      <td>Corner</td>\n",
       "      <td>...</td>\n",
       "      <td>0</td>\n",
       "      <td>NaN</td>\n",
       "      <td>NaN</td>\n",
       "      <td>NaN</td>\n",
       "      <td>0</td>\n",
       "      <td>5</td>\n",
       "      <td>2010</td>\n",
       "      <td>WD</td>\n",
       "      <td>Normal</td>\n",
       "      <td>215000</td>\n",
       "    </tr>\n",
       "    <tr>\n",
       "      <th>2</th>\n",
       "      <td>20</td>\n",
       "      <td>RH</td>\n",
       "      <td>80.0</td>\n",
       "      <td>11622</td>\n",
       "      <td>Pave</td>\n",
       "      <td>NaN</td>\n",
       "      <td>Reg</td>\n",
       "      <td>Lvl</td>\n",
       "      <td>AllPub</td>\n",
       "      <td>Inside</td>\n",
       "      <td>...</td>\n",
       "      <td>0</td>\n",
       "      <td>NaN</td>\n",
       "      <td>MnPrv</td>\n",
       "      <td>NaN</td>\n",
       "      <td>0</td>\n",
       "      <td>6</td>\n",
       "      <td>2010</td>\n",
       "      <td>WD</td>\n",
       "      <td>Normal</td>\n",
       "      <td>105000</td>\n",
       "    </tr>\n",
       "    <tr>\n",
       "      <th>3</th>\n",
       "      <td>20</td>\n",
       "      <td>RL</td>\n",
       "      <td>81.0</td>\n",
       "      <td>14267</td>\n",
       "      <td>Pave</td>\n",
       "      <td>NaN</td>\n",
       "      <td>IR1</td>\n",
       "      <td>Lvl</td>\n",
       "      <td>AllPub</td>\n",
       "      <td>Corner</td>\n",
       "      <td>...</td>\n",
       "      <td>0</td>\n",
       "      <td>NaN</td>\n",
       "      <td>NaN</td>\n",
       "      <td>Gar2</td>\n",
       "      <td>12500</td>\n",
       "      <td>6</td>\n",
       "      <td>2010</td>\n",
       "      <td>WD</td>\n",
       "      <td>Normal</td>\n",
       "      <td>172000</td>\n",
       "    </tr>\n",
       "    <tr>\n",
       "      <th>4</th>\n",
       "      <td>20</td>\n",
       "      <td>RL</td>\n",
       "      <td>93.0</td>\n",
       "      <td>11160</td>\n",
       "      <td>Pave</td>\n",
       "      <td>NaN</td>\n",
       "      <td>Reg</td>\n",
       "      <td>Lvl</td>\n",
       "      <td>AllPub</td>\n",
       "      <td>Corner</td>\n",
       "      <td>...</td>\n",
       "      <td>0</td>\n",
       "      <td>NaN</td>\n",
       "      <td>NaN</td>\n",
       "      <td>NaN</td>\n",
       "      <td>0</td>\n",
       "      <td>4</td>\n",
       "      <td>2010</td>\n",
       "      <td>WD</td>\n",
       "      <td>Normal</td>\n",
       "      <td>244000</td>\n",
       "    </tr>\n",
       "    <tr>\n",
       "      <th>5</th>\n",
       "      <td>60</td>\n",
       "      <td>RL</td>\n",
       "      <td>74.0</td>\n",
       "      <td>13830</td>\n",
       "      <td>Pave</td>\n",
       "      <td>NaN</td>\n",
       "      <td>IR1</td>\n",
       "      <td>Lvl</td>\n",
       "      <td>AllPub</td>\n",
       "      <td>Inside</td>\n",
       "      <td>...</td>\n",
       "      <td>0</td>\n",
       "      <td>NaN</td>\n",
       "      <td>MnPrv</td>\n",
       "      <td>NaN</td>\n",
       "      <td>0</td>\n",
       "      <td>3</td>\n",
       "      <td>2010</td>\n",
       "      <td>WD</td>\n",
       "      <td>Normal</td>\n",
       "      <td>189900</td>\n",
       "    </tr>\n",
       "    <tr>\n",
       "      <th>...</th>\n",
       "      <td>...</td>\n",
       "      <td>...</td>\n",
       "      <td>...</td>\n",
       "      <td>...</td>\n",
       "      <td>...</td>\n",
       "      <td>...</td>\n",
       "      <td>...</td>\n",
       "      <td>...</td>\n",
       "      <td>...</td>\n",
       "      <td>...</td>\n",
       "      <td>...</td>\n",
       "      <td>...</td>\n",
       "      <td>...</td>\n",
       "      <td>...</td>\n",
       "      <td>...</td>\n",
       "      <td>...</td>\n",
       "      <td>...</td>\n",
       "      <td>...</td>\n",
       "      <td>...</td>\n",
       "      <td>...</td>\n",
       "      <td>...</td>\n",
       "    </tr>\n",
       "    <tr>\n",
       "      <th>2926</th>\n",
       "      <td>80</td>\n",
       "      <td>RL</td>\n",
       "      <td>37.0</td>\n",
       "      <td>7937</td>\n",
       "      <td>Pave</td>\n",
       "      <td>NaN</td>\n",
       "      <td>IR1</td>\n",
       "      <td>Lvl</td>\n",
       "      <td>AllPub</td>\n",
       "      <td>CulDSac</td>\n",
       "      <td>...</td>\n",
       "      <td>0</td>\n",
       "      <td>NaN</td>\n",
       "      <td>GdPrv</td>\n",
       "      <td>NaN</td>\n",
       "      <td>0</td>\n",
       "      <td>3</td>\n",
       "      <td>2006</td>\n",
       "      <td>WD</td>\n",
       "      <td>Normal</td>\n",
       "      <td>142500</td>\n",
       "    </tr>\n",
       "    <tr>\n",
       "      <th>2927</th>\n",
       "      <td>20</td>\n",
       "      <td>RL</td>\n",
       "      <td>NaN</td>\n",
       "      <td>8885</td>\n",
       "      <td>Pave</td>\n",
       "      <td>NaN</td>\n",
       "      <td>IR1</td>\n",
       "      <td>Low</td>\n",
       "      <td>AllPub</td>\n",
       "      <td>Inside</td>\n",
       "      <td>...</td>\n",
       "      <td>0</td>\n",
       "      <td>NaN</td>\n",
       "      <td>MnPrv</td>\n",
       "      <td>NaN</td>\n",
       "      <td>0</td>\n",
       "      <td>6</td>\n",
       "      <td>2006</td>\n",
       "      <td>WD</td>\n",
       "      <td>Normal</td>\n",
       "      <td>131000</td>\n",
       "    </tr>\n",
       "    <tr>\n",
       "      <th>2928</th>\n",
       "      <td>85</td>\n",
       "      <td>RL</td>\n",
       "      <td>62.0</td>\n",
       "      <td>10441</td>\n",
       "      <td>Pave</td>\n",
       "      <td>NaN</td>\n",
       "      <td>Reg</td>\n",
       "      <td>Lvl</td>\n",
       "      <td>AllPub</td>\n",
       "      <td>Inside</td>\n",
       "      <td>...</td>\n",
       "      <td>0</td>\n",
       "      <td>NaN</td>\n",
       "      <td>MnPrv</td>\n",
       "      <td>Shed</td>\n",
       "      <td>700</td>\n",
       "      <td>7</td>\n",
       "      <td>2006</td>\n",
       "      <td>WD</td>\n",
       "      <td>Normal</td>\n",
       "      <td>132000</td>\n",
       "    </tr>\n",
       "    <tr>\n",
       "      <th>2929</th>\n",
       "      <td>20</td>\n",
       "      <td>RL</td>\n",
       "      <td>77.0</td>\n",
       "      <td>10010</td>\n",
       "      <td>Pave</td>\n",
       "      <td>NaN</td>\n",
       "      <td>Reg</td>\n",
       "      <td>Lvl</td>\n",
       "      <td>AllPub</td>\n",
       "      <td>Inside</td>\n",
       "      <td>...</td>\n",
       "      <td>0</td>\n",
       "      <td>NaN</td>\n",
       "      <td>NaN</td>\n",
       "      <td>NaN</td>\n",
       "      <td>0</td>\n",
       "      <td>4</td>\n",
       "      <td>2006</td>\n",
       "      <td>WD</td>\n",
       "      <td>Normal</td>\n",
       "      <td>170000</td>\n",
       "    </tr>\n",
       "    <tr>\n",
       "      <th>2930</th>\n",
       "      <td>60</td>\n",
       "      <td>RL</td>\n",
       "      <td>74.0</td>\n",
       "      <td>9627</td>\n",
       "      <td>Pave</td>\n",
       "      <td>NaN</td>\n",
       "      <td>Reg</td>\n",
       "      <td>Lvl</td>\n",
       "      <td>AllPub</td>\n",
       "      <td>Inside</td>\n",
       "      <td>...</td>\n",
       "      <td>0</td>\n",
       "      <td>NaN</td>\n",
       "      <td>NaN</td>\n",
       "      <td>NaN</td>\n",
       "      <td>0</td>\n",
       "      <td>11</td>\n",
       "      <td>2006</td>\n",
       "      <td>WD</td>\n",
       "      <td>Normal</td>\n",
       "      <td>188000</td>\n",
       "    </tr>\n",
       "  </tbody>\n",
       "</table>\n",
       "<p>2930 rows × 80 columns</p>\n",
       "</div>"
      ],
      "text/plain": [
       "       MS SubClass MS Zoning  Lot Frontage  Lot Area Street Alley Lot Shape  \\\n",
       "Order                                                                         \n",
       "1               20        RL         141.0     31770   Pave   NaN       IR1   \n",
       "2               20        RH          80.0     11622   Pave   NaN       Reg   \n",
       "3               20        RL          81.0     14267   Pave   NaN       IR1   \n",
       "4               20        RL          93.0     11160   Pave   NaN       Reg   \n",
       "5               60        RL          74.0     13830   Pave   NaN       IR1   \n",
       "...            ...       ...           ...       ...    ...   ...       ...   \n",
       "2926            80        RL          37.0      7937   Pave   NaN       IR1   \n",
       "2927            20        RL           NaN      8885   Pave   NaN       IR1   \n",
       "2928            85        RL          62.0     10441   Pave   NaN       Reg   \n",
       "2929            20        RL          77.0     10010   Pave   NaN       Reg   \n",
       "2930            60        RL          74.0      9627   Pave   NaN       Reg   \n",
       "\n",
       "      Land Contour Utilities Lot Config  ... Pool Area Pool QC  Fence  \\\n",
       "Order                                    ...                            \n",
       "1              Lvl    AllPub     Corner  ...         0     NaN    NaN   \n",
       "2              Lvl    AllPub     Inside  ...         0     NaN  MnPrv   \n",
       "3              Lvl    AllPub     Corner  ...         0     NaN    NaN   \n",
       "4              Lvl    AllPub     Corner  ...         0     NaN    NaN   \n",
       "5              Lvl    AllPub     Inside  ...         0     NaN  MnPrv   \n",
       "...            ...       ...        ...  ...       ...     ...    ...   \n",
       "2926           Lvl    AllPub    CulDSac  ...         0     NaN  GdPrv   \n",
       "2927           Low    AllPub     Inside  ...         0     NaN  MnPrv   \n",
       "2928           Lvl    AllPub     Inside  ...         0     NaN  MnPrv   \n",
       "2929           Lvl    AllPub     Inside  ...         0     NaN    NaN   \n",
       "2930           Lvl    AllPub     Inside  ...         0     NaN    NaN   \n",
       "\n",
       "      Misc Feature Misc Val Mo Sold  Yr Sold  Sale Type  Sale Condition  \\\n",
       "Order                                                                     \n",
       "1              NaN        0       5     2010        WD           Normal   \n",
       "2              NaN        0       6     2010        WD           Normal   \n",
       "3             Gar2    12500       6     2010        WD           Normal   \n",
       "4              NaN        0       4     2010        WD           Normal   \n",
       "5              NaN        0       3     2010        WD           Normal   \n",
       "...            ...      ...     ...      ...        ...             ...   \n",
       "2926           NaN        0       3     2006        WD           Normal   \n",
       "2927           NaN        0       6     2006        WD           Normal   \n",
       "2928          Shed      700       7     2006        WD           Normal   \n",
       "2929           NaN        0       4     2006        WD           Normal   \n",
       "2930           NaN        0      11     2006        WD           Normal   \n",
       "\n",
       "       SalePrice  \n",
       "Order             \n",
       "1         215000  \n",
       "2         105000  \n",
       "3         172000  \n",
       "4         244000  \n",
       "5         189900  \n",
       "...          ...  \n",
       "2926      142500  \n",
       "2927      131000  \n",
       "2928      132000  \n",
       "2929      170000  \n",
       "2930      188000  \n",
       "\n",
       "[2930 rows x 80 columns]"
      ]
     },
     "execution_count": 21,
     "metadata": {},
     "output_type": "execute_result"
    }
   ],
   "source": [
    "tst = train.drop('PID', axis='columns')\n",
    "tst"
   ]
  },
  {
   "cell_type": "code",
   "execution_count": null,
   "metadata": {},
   "outputs": [],
   "source": []
  },
  {
   "cell_type": "markdown",
   "metadata": {},
   "source": [
    "##  3"
   ]
  },
  {
   "cell_type": "code",
   "execution_count": null,
   "metadata": {},
   "outputs": [],
   "source": []
  },
  {
   "cell_type": "code",
   "execution_count": null,
   "metadata": {},
   "outputs": [],
   "source": []
  },
  {
   "cell_type": "markdown",
   "metadata": {},
   "source": [
    "## 4"
   ]
  },
  {
   "cell_type": "code",
   "execution_count": null,
   "metadata": {},
   "outputs": [],
   "source": []
  },
  {
   "cell_type": "code",
   "execution_count": null,
   "metadata": {},
   "outputs": [],
   "source": []
  },
  {
   "cell_type": "markdown",
   "metadata": {},
   "source": [
    "## 5"
   ]
  },
  {
   "cell_type": "code",
   "execution_count": null,
   "metadata": {},
   "outputs": [],
   "source": []
  },
  {
   "cell_type": "code",
   "execution_count": null,
   "metadata": {},
   "outputs": [],
   "source": []
  },
  {
   "cell_type": "markdown",
   "metadata": {},
   "source": [
    "## 6"
   ]
  },
  {
   "cell_type": "code",
   "execution_count": null,
   "metadata": {},
   "outputs": [],
   "source": []
  },
  {
   "cell_type": "code",
   "execution_count": null,
   "metadata": {},
   "outputs": [],
   "source": []
  },
  {
   "cell_type": "markdown",
   "metadata": {},
   "source": [
    "## 7"
   ]
  },
  {
   "cell_type": "code",
   "execution_count": null,
   "metadata": {},
   "outputs": [],
   "source": []
  },
  {
   "cell_type": "code",
   "execution_count": null,
   "metadata": {},
   "outputs": [],
   "source": []
  },
  {
   "cell_type": "markdown",
   "metadata": {},
   "source": [
    "## 8"
   ]
  },
  {
   "cell_type": "code",
   "execution_count": null,
   "metadata": {},
   "outputs": [],
   "source": []
  },
  {
   "cell_type": "code",
   "execution_count": null,
   "metadata": {},
   "outputs": [],
   "source": []
  },
  {
   "cell_type": "markdown",
   "metadata": {},
   "source": [
    "## 9"
   ]
  },
  {
   "cell_type": "code",
   "execution_count": null,
   "metadata": {},
   "outputs": [],
   "source": []
  },
  {
   "cell_type": "code",
   "execution_count": null,
   "metadata": {},
   "outputs": [],
   "source": []
  },
  {
   "cell_type": "markdown",
   "metadata": {},
   "source": [
    "## 10"
   ]
  },
  {
   "cell_type": "code",
   "execution_count": null,
   "metadata": {},
   "outputs": [],
   "source": []
  },
  {
   "cell_type": "code",
   "execution_count": null,
   "metadata": {},
   "outputs": [],
   "source": []
  },
  {
   "cell_type": "markdown",
   "metadata": {},
   "source": [
    "## 11"
   ]
  },
  {
   "cell_type": "code",
   "execution_count": null,
   "metadata": {},
   "outputs": [],
   "source": []
  },
  {
   "cell_type": "code",
   "execution_count": null,
   "metadata": {},
   "outputs": [],
   "source": []
  },
  {
   "cell_type": "markdown",
   "metadata": {},
   "source": [
    "## 12"
   ]
  },
  {
   "cell_type": "code",
   "execution_count": null,
   "metadata": {},
   "outputs": [],
   "source": []
  },
  {
   "cell_type": "code",
   "execution_count": null,
   "metadata": {},
   "outputs": [],
   "source": []
  },
  {
   "cell_type": "markdown",
   "metadata": {},
   "source": [
    "## 13"
   ]
  },
  {
   "cell_type": "code",
   "execution_count": null,
   "metadata": {},
   "outputs": [],
   "source": []
  },
  {
   "cell_type": "code",
   "execution_count": null,
   "metadata": {},
   "outputs": [],
   "source": []
  },
  {
   "cell_type": "markdown",
   "metadata": {},
   "source": [
    "## 14"
   ]
  },
  {
   "cell_type": "code",
   "execution_count": null,
   "metadata": {},
   "outputs": [],
   "source": []
  },
  {
   "cell_type": "code",
   "execution_count": null,
   "metadata": {},
   "outputs": [],
   "source": []
  },
  {
   "cell_type": "markdown",
   "metadata": {},
   "source": [
    "## 15"
   ]
  },
  {
   "cell_type": "code",
   "execution_count": null,
   "metadata": {},
   "outputs": [],
   "source": []
  },
  {
   "cell_type": "code",
   "execution_count": null,
   "metadata": {},
   "outputs": [],
   "source": []
  }
 ],
 "metadata": {
  "kernelspec": {
   "display_name": "Python 3",
   "language": "python",
   "name": "python3"
  },
  "language_info": {
   "codemirror_mode": {
    "name": "ipython",
    "version": 3
   },
   "file_extension": ".py",
   "mimetype": "text/x-python",
   "name": "python",
   "nbconvert_exporter": "python",
   "pygments_lexer": "ipython3",
   "version": "3.7.3"
  }
 },
 "nbformat": 4,
 "nbformat_minor": 4
}
