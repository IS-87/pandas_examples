{
 "cells": [
  {
   "cell_type": "markdown",
   "metadata": {},
   "source": [
    "## 1"
   ]
  },
  {
   "cell_type": "code",
   "execution_count": 3,
   "metadata": {},
   "outputs": [],
   "source": [
    "import numpy as np\n",
    "import pandas as pd\n",
    "import matplotlib.pyplot as plt\n",
    "from sklearn.linear_model import LinearRegression\n",
    "from sklearn.metrics import mean_squared_error"
   ]
  },
  {
   "cell_type": "code",
   "execution_count": 4,
   "metadata": {},
   "outputs": [],
   "source": [
    "train = pd.read_csv('AmesHousing.tsv', sep='\\t', index_col='Order')"
   ]
  },
  {
   "cell_type": "code",
   "execution_count": 5,
   "metadata": {},
   "outputs": [],
   "source": [
    "# set threshold ratio - if number of missing values in a column is greater, remove column\n",
    "remove_na_pct_threshold = .25"
   ]
  },
  {
   "cell_type": "markdown",
   "metadata": {},
   "source": [
    "### Read Data Descriptions"
   ]
  },
  {
   "cell_type": "markdown",
   "metadata": {},
   "source": [
    "Need to check the number of missing values and read data descriptions to decide how to transform each column"
   ]
  },
  {
   "cell_type": "code",
   "execution_count": 8,
   "metadata": {},
   "outputs": [
    {
     "name": "stdout",
     "output_type": "stream",
     "text": [
      "Pool QC /  2917 missing (100%)\n",
      "Misc Feature /  2824 missing (96%)\n",
      "Alley /  2732 missing (93%)\n",
      "Fence /  2358 missing (80%)\n",
      "Fireplace Qu /  1422 missing (49%)\n",
      "Lot Frontage /  490 missing (17%)\n",
      "Garage Cond /  159 missing (5%)\n",
      "Garage Finish /  159 missing (5%)\n",
      "Garage Yr Blt /  159 missing (5%)\n",
      "Garage Qual /  159 missing (5%)\n",
      "Garage Type /  157 missing (5%)\n",
      "Bsmt Exposure /  83 missing (3%)\n",
      "BsmtFin Type 2 /  81 missing (3%)\n",
      "Bsmt Qual /  80 missing (3%)\n",
      "Bsmt Cond /  80 missing (3%)\n",
      "BsmtFin Type 1 /  80 missing (3%)\n",
      "Mas Vnr Area /  23 missing (1%)\n",
      "Mas Vnr Type /  23 missing (1%)\n",
      "Bsmt Half Bath /  2 missing (0%)\n",
      "Bsmt Full Bath /  2 missing (0%)\n",
      "BsmtFin SF 1 /  1 missing (0%)\n",
      "Garage Cars /  1 missing (0%)\n",
      "Electrical /  1 missing (0%)\n",
      "Total Bsmt SF /  1 missing (0%)\n",
      "Bsmt Unf SF /  1 missing (0%)\n",
      "BsmtFin SF 2 /  1 missing (0%)\n",
      "Garage Area /  1 missing (0%)\n",
      "Sale Condition /  0 missing (0%)\n",
      "Full Bath /  0 missing (0%)\n",
      "Half Bath /  0 missing (0%)\n",
      "Bedroom AbvGr /  0 missing (0%)\n",
      "Kitchen AbvGr /  0 missing (0%)\n",
      "Kitchen Qual /  0 missing (0%)\n",
      "TotRms AbvGrd /  0 missing (0%)\n",
      "Functional /  0 missing (0%)\n",
      "Paved Drive /  0 missing (0%)\n",
      "Sale Type /  0 missing (0%)\n",
      "Yr Sold /  0 missing (0%)\n",
      "Mo Sold /  0 missing (0%)\n",
      "Misc Val /  0 missing (0%)\n",
      "Fireplaces /  0 missing (0%)\n",
      "Pool Area /  0 missing (0%)\n",
      "Screen Porch /  0 missing (0%)\n",
      "3Ssn Porch /  0 missing (0%)\n",
      "Enclosed Porch /  0 missing (0%)\n",
      "Open Porch SF /  0 missing (0%)\n",
      "Wood Deck SF /  0 missing (0%)\n",
      "PID /  0 missing (0%)\n",
      "Heating QC /  0 missing (0%)\n",
      "Gr Liv Area /  0 missing (0%)\n",
      "Low Qual Fin SF /  0 missing (0%)\n",
      "MS Zoning /  0 missing (0%)\n",
      "Lot Area /  0 missing (0%)\n",
      "Street /  0 missing (0%)\n",
      "Lot Shape /  0 missing (0%)\n",
      "Land Contour /  0 missing (0%)\n",
      "Utilities /  0 missing (0%)\n",
      "Lot Config /  0 missing (0%)\n",
      "Land Slope /  0 missing (0%)\n",
      "Neighborhood /  0 missing (0%)\n",
      "Condition 1 /  0 missing (0%)\n",
      "Condition 2 /  0 missing (0%)\n",
      "Bldg Type /  0 missing (0%)\n",
      "House Style /  0 missing (0%)\n",
      "Overall Qual /  0 missing (0%)\n",
      "Overall Cond /  0 missing (0%)\n",
      "Year Built /  0 missing (0%)\n",
      "Year Remod/Add /  0 missing (0%)\n",
      "Roof Style /  0 missing (0%)\n",
      "Roof Matl /  0 missing (0%)\n",
      "Exterior 1st /  0 missing (0%)\n",
      "Exterior 2nd /  0 missing (0%)\n",
      "Exter Qual /  0 missing (0%)\n",
      "Exter Cond /  0 missing (0%)\n",
      "Foundation /  0 missing (0%)\n",
      "Heating /  0 missing (0%)\n",
      "MS SubClass /  0 missing (0%)\n",
      "Central Air /  0 missing (0%)\n",
      "1st Flr SF /  0 missing (0%)\n",
      "2nd Flr SF /  0 missing (0%)\n",
      "SalePrice /  0 missing (0%)\n"
     ]
    }
   ],
   "source": [
    "number_rows_na = train.isna().sum().sort_values(ascending=False)\n",
    "for index, row in zip(number_rows_na.index, number_rows_na):\n",
    "    print(index + ' / ', str(row) + ' missing (' + str(round(row/len(train)*100, 0)).replace('.0', '') + '%)')"
   ]
  },
  {
   "cell_type": "markdown",
   "metadata": {},
   "source": [
    "### Transform Data"
   ]
  },
  {
   "cell_type": "markdown",
   "metadata": {},
   "source": [
    "Before applying brute force feature selection methods it is a good idea to investigate features more closely and see what they represent.\n",
    "\n",
    "Removing sales between family members, because a variety of special deals may be involved, the details of which are unknown, as is the combined effect. Luckily, fewer than 50 of almost 3,000 data points involve family sales.\n",
    "\n",
    "Nothing indicates that missing values in 'Lot Frontage' really represent 0 feet of street connected to property, and this feature has too many missing values, let's remove this column."
   ]
  },
  {
   "cell_type": "code",
   "execution_count": 26,
   "metadata": {},
   "outputs": [],
   "source": [
    "def transform_features(dataframe):\n",
    "    modified_train = dataframe.copy()\n",
    "    # remove sales between family members\n",
    "    modified_train = train[train['Sale Type'] != 'Family']\n",
    "    # NA value in Pool QC indicates no pool, not missing data\n",
    "    modified_train['Pool QC'] = modified_train['Pool QC'].fillna('No Pool')\n",
    "    # Misc Feature and Val are too sparsely populated\n",
    "    modified_train.drop('Misc Feature', axis='columns', inplace=True)\n",
    "    modified_train.drop('Misc Val', axis='columns', inplace=True)\n",
    "    # Alley is too sparsely populated\n",
    "    modified_train.drop('Alley', axis='columns', inplace=True)\n",
    "    # NA value in Fence indicates no fence, not missing data\n",
    "    modified_train['Fence'] = modified_train['Fence'].fillna('No Fence')\n",
    "    # NA value in Fireplace Qu indicates no fireplace, not missing data\n",
    "    modified_train['Fireplace Qu'] = modified_train['Fireplace Qu'].fillna('No Fireplace')\n",
    "    # NA values in the four garage columns indicate no garage, not missing data\n",
    "    modified_train['Garage Cond'] = modified_train['Garage Cond'].fillna('No Garage')\n",
    "    modified_train['Garage Finish'] = modified_train['Garage Finish'].fillna('No Garage')\n",
    "    modified_train['Garage Qual'] = modified_train['Garage Qual'].fillna('No Garage')\n",
    "    modified_train['Garage Type'] = modified_train['Garage Type'].fillna('No Garage')\n",
    "    # with multiple features describing garage in detail, garage year built does not add a lot of value to the model\n",
    "    modified_train.drop('Garage Yr Blt', axis='columns', inplace=True)\n",
    "    # NA values in the five basement columns indicate no basement, not missing data\n",
    "    modified_train['Bsmt Exposure'] = modified_train['Bsmt Exposure'].fillna('No Basement')\n",
    "    modified_train['BsmtFin Type 2'] = modified_train['BsmtFin Type 2'].fillna('No Basement')\n",
    "    modified_train['Bsmt Qual'] = modified_train['Bsmt Qual'].fillna('No Basement')\n",
    "    modified_train['Bsmt Cond'] = modified_train['Bsmt Cond'].fillna('No Basement')\n",
    "    modified_train['BsmtFin Type 1'] = modified_train['BsmtFin Type 1'].fillna('No Basement')\n",
    "    # investigate missing values in Lot Frontage\n",
    "    modified_train['Lot Frontage'].value_counts(dropna=False)\n",
    "    modified_train.drop('Lot Frontage', axis='columns', inplace=True)\n",
    "    # property ID, not useful for modeling\n",
    "    modified_train.drop('PID', axis='columns', inplace=True)\n",
    "    # remove remaining columns that have number of missing values greater than threshold specified\n",
    "    dataframe_len = len(modified_train)\n",
    "    threshold = dataframe_len * remove_na_pct_threshold\n",
    "    missing_counts = modified_train.isna().sum()\n",
    "    keep_cols = missing_counts[missing_counts < threshold].index\n",
    "    modified_train = modified_train[keep_cols]\n",
    "    # remove rows with missing values\n",
    "    modified_train.dropna(inplace=True)\n",
    "    # convert yr built to age when sold\n",
    "    modified_train['Age'] = modified_train['Yr Sold'] - modified_train['Year Built']\n",
    "    # create years since remodel\n",
    "    modified_train['Years Since Built/Remodel'] = modified_train['Yr Sold'] - modified_train['Year Remod/Add']\n",
    "    # remove years, month\n",
    "    modified_train.drop(['Yr Sold', 'Year Built', 'Year Remod/Add', 'Mo Sold'], axis='columns', inplace=True)\n",
    "    # this feature is not numeric\n",
    "    modified_train['MS SubClass'] = modified_train['MS SubClass'].astype(str)\n",
    "    # convert object dtype to categorical, convert to dummies, and delete original categorical features\n",
    "    string_dtypes = modified_train.dtypes[modified_train.dtypes == 'object'].index\n",
    "    for col in string_dtypes:\n",
    "        modified_train[col] = modified_train[col].astype('category')\n",
    "        dummies = pd.get_dummies(modified_train[col])\n",
    "        modified_train = pd.concat([modified_train, dummies], axis=1)\n",
    "        del modified_train[col] \n",
    "    \n",
    "    return modified_train"
   ]
  },
  {
   "cell_type": "code",
   "execution_count": 27,
   "metadata": {},
   "outputs": [],
   "source": [
    "transformed_train = transform_features(train)"
   ]
  },
  {
   "cell_type": "code",
   "execution_count": 31,
   "metadata": {},
   "outputs": [
    {
     "name": "stdout",
     "output_type": "stream",
     "text": [
      "<class 'pandas.core.frame.DataFrame'>\n",
      "Int64Index: 2903 entries, 1 to 2930\n",
      "Columns: 320 entries, Lot Area to Partial\n",
      "dtypes: float64(9), int64(22), uint8(289)\n",
      "memory usage: 1.5 MB\n"
     ]
    }
   ],
   "source": [
    "transformed_train.info()"
   ]
  },
  {
   "cell_type": "code",
   "execution_count": 39,
   "metadata": {},
   "outputs": [
    {
     "name": "stdout",
     "output_type": "stream",
     "text": [
      "Lot Area /  int64\n",
      "Overall Qual /  int64\n",
      "Overall Cond /  int64\n",
      "Mas Vnr Area /  float64\n",
      "BsmtFin SF 1 /  float64\n",
      "BsmtFin SF 2 /  float64\n",
      "Bsmt Unf SF /  float64\n",
      "Total Bsmt SF /  float64\n",
      "1st Flr SF /  int64\n",
      "2nd Flr SF /  int64\n",
      "Low Qual Fin SF /  int64\n",
      "Gr Liv Area /  int64\n",
      "Bsmt Full Bath /  float64\n",
      "Bsmt Half Bath /  float64\n",
      "Full Bath /  int64\n",
      "Half Bath /  int64\n",
      "Bedroom AbvGr /  int64\n",
      "Kitchen AbvGr /  int64\n",
      "TotRms AbvGrd /  int64\n",
      "Fireplaces /  int64\n",
      "Garage Cars /  float64\n",
      "Garage Area /  float64\n",
      "Wood Deck SF /  int64\n",
      "Open Porch SF /  int64\n",
      "Enclosed Porch /  int64\n",
      "3Ssn Porch /  int64\n",
      "Screen Porch /  int64\n",
      "Pool Area /  int64\n",
      "SalePrice /  int64\n",
      "Age /  int64\n",
      "Years Since Built/Remodel /  int64\n",
      "120 /  uint8\n",
      "150 /  uint8\n",
      "160 /  uint8\n",
      "180 /  uint8\n",
      "190 /  uint8\n",
      "20 /  uint8\n",
      "30 /  uint8\n",
      "40 /  uint8\n",
      "45 /  uint8\n",
      "50 /  uint8\n",
      "60 /  uint8\n",
      "70 /  uint8\n",
      "75 /  uint8\n",
      "80 /  uint8\n",
      "85 /  uint8\n",
      "90 /  uint8\n",
      "A (agr) /  uint8\n",
      "C (all) /  uint8\n",
      "FV /  uint8\n",
      "I (all) /  uint8\n",
      "RH /  uint8\n",
      "RL /  uint8\n",
      "RM /  uint8\n",
      "Grvl /  uint8\n",
      "Pave /  uint8\n",
      "IR1 /  uint8\n",
      "IR2 /  uint8\n",
      "IR3 /  uint8\n",
      "Reg /  uint8\n",
      "Bnk /  uint8\n",
      "HLS /  uint8\n",
      "Low /  uint8\n",
      "Lvl /  uint8\n",
      "AllPub /  uint8\n",
      "NoSeWa /  uint8\n",
      "NoSewr /  uint8\n",
      "Corner /  uint8\n",
      "CulDSac /  uint8\n",
      "FR2 /  uint8\n",
      "FR3 /  uint8\n",
      "Inside /  uint8\n",
      "Gtl /  uint8\n",
      "Mod /  uint8\n",
      "Sev /  uint8\n",
      "Blmngtn /  uint8\n",
      "Blueste /  uint8\n",
      "BrDale /  uint8\n",
      "BrkSide /  uint8\n",
      "ClearCr /  uint8\n",
      "CollgCr /  uint8\n",
      "Crawfor /  uint8\n",
      "Edwards /  uint8\n",
      "Gilbert /  uint8\n",
      "Greens /  uint8\n",
      "GrnHill /  uint8\n",
      "IDOTRR /  uint8\n",
      "Landmrk /  uint8\n",
      "MeadowV /  uint8\n",
      "Mitchel /  uint8\n",
      "NAmes /  uint8\n",
      "NPkVill /  uint8\n",
      "NWAmes /  uint8\n",
      "NoRidge /  uint8\n",
      "NridgHt /  uint8\n",
      "OldTown /  uint8\n",
      "SWISU /  uint8\n",
      "Sawyer /  uint8\n",
      "SawyerW /  uint8\n",
      "Somerst /  uint8\n",
      "StoneBr /  uint8\n",
      "Timber /  uint8\n",
      "Veenker /  uint8\n",
      "Artery /  uint8\n",
      "Feedr /  uint8\n",
      "Norm /  uint8\n",
      "PosA /  uint8\n",
      "PosN /  uint8\n",
      "RRAe /  uint8\n",
      "RRAn /  uint8\n",
      "RRNe /  uint8\n",
      "RRNn /  uint8\n",
      "Artery /  uint8\n",
      "Feedr /  uint8\n",
      "Norm /  uint8\n",
      "PosA /  uint8\n",
      "PosN /  uint8\n",
      "RRAe /  uint8\n",
      "RRAn /  uint8\n",
      "RRNn /  uint8\n",
      "1Fam /  uint8\n",
      "2fmCon /  uint8\n",
      "Duplex /  uint8\n",
      "Twnhs /  uint8\n",
      "TwnhsE /  uint8\n",
      "1.5Fin /  uint8\n",
      "1.5Unf /  uint8\n",
      "1Story /  uint8\n",
      "2.5Fin /  uint8\n",
      "2.5Unf /  uint8\n",
      "2Story /  uint8\n",
      "SFoyer /  uint8\n",
      "SLvl /  uint8\n",
      "Flat /  uint8\n",
      "Gable /  uint8\n",
      "Gambrel /  uint8\n",
      "Hip /  uint8\n",
      "Mansard /  uint8\n",
      "Shed /  uint8\n",
      "ClyTile /  uint8\n",
      "CompShg /  uint8\n",
      "Membran /  uint8\n",
      "Metal /  uint8\n",
      "Roll /  uint8\n",
      "Tar&Grv /  uint8\n",
      "WdShake /  uint8\n",
      "WdShngl /  uint8\n",
      "AsbShng /  uint8\n",
      "AsphShn /  uint8\n",
      "BrkComm /  uint8\n",
      "BrkFace /  uint8\n",
      "CBlock /  uint8\n",
      "CemntBd /  uint8\n",
      "HdBoard /  uint8\n",
      "ImStucc /  uint8\n",
      "MetalSd /  uint8\n",
      "Plywood /  uint8\n",
      "PreCast /  uint8\n",
      "Stone /  uint8\n",
      "Stucco /  uint8\n",
      "VinylSd /  uint8\n",
      "Wd Sdng /  uint8\n",
      "WdShing /  uint8\n",
      "AsbShng /  uint8\n",
      "AsphShn /  uint8\n",
      "Brk Cmn /  uint8\n",
      "BrkFace /  uint8\n",
      "CBlock /  uint8\n",
      "CmentBd /  uint8\n",
      "HdBoard /  uint8\n",
      "ImStucc /  uint8\n",
      "MetalSd /  uint8\n",
      "Other /  uint8\n",
      "Plywood /  uint8\n",
      "PreCast /  uint8\n",
      "Stone /  uint8\n",
      "Stucco /  uint8\n",
      "VinylSd /  uint8\n",
      "Wd Sdng /  uint8\n",
      "Wd Shng /  uint8\n",
      "BrkCmn /  uint8\n",
      "BrkFace /  uint8\n",
      "CBlock /  uint8\n",
      "None /  uint8\n",
      "Stone /  uint8\n",
      "Ex /  uint8\n",
      "Fa /  uint8\n",
      "Gd /  uint8\n",
      "TA /  uint8\n",
      "Ex /  uint8\n",
      "Fa /  uint8\n",
      "Gd /  uint8\n",
      "Po /  uint8\n",
      "TA /  uint8\n",
      "BrkTil /  uint8\n",
      "CBlock /  uint8\n",
      "PConc /  uint8\n",
      "Slab /  uint8\n",
      "Stone /  uint8\n",
      "Wood /  uint8\n",
      "Ex /  uint8\n",
      "Fa /  uint8\n",
      "Gd /  uint8\n",
      "No Basement /  uint8\n",
      "Po /  uint8\n",
      "TA /  uint8\n",
      "Ex /  uint8\n",
      "Fa /  uint8\n",
      "Gd /  uint8\n",
      "No Basement /  uint8\n",
      "Po /  uint8\n",
      "TA /  uint8\n",
      "Av /  uint8\n",
      "Gd /  uint8\n",
      "Mn /  uint8\n",
      "No /  uint8\n",
      "No Basement /  uint8\n",
      "ALQ /  uint8\n",
      "BLQ /  uint8\n",
      "GLQ /  uint8\n",
      "LwQ /  uint8\n",
      "No Basement /  uint8\n",
      "Rec /  uint8\n",
      "Unf /  uint8\n",
      "ALQ /  uint8\n",
      "BLQ /  uint8\n",
      "GLQ /  uint8\n",
      "LwQ /  uint8\n",
      "No Basement /  uint8\n",
      "Rec /  uint8\n",
      "Unf /  uint8\n",
      "Floor /  uint8\n",
      "GasA /  uint8\n",
      "GasW /  uint8\n",
      "Grav /  uint8\n",
      "OthW /  uint8\n",
      "Wall /  uint8\n",
      "Ex /  uint8\n",
      "Fa /  uint8\n",
      "Gd /  uint8\n",
      "Po /  uint8\n",
      "TA /  uint8\n",
      "N /  uint8\n",
      "Y /  uint8\n",
      "FuseA /  uint8\n",
      "FuseF /  uint8\n",
      "FuseP /  uint8\n",
      "Mix /  uint8\n",
      "SBrkr /  uint8\n",
      "Ex /  uint8\n",
      "Fa /  uint8\n",
      "Gd /  uint8\n",
      "Po /  uint8\n",
      "TA /  uint8\n",
      "Maj1 /  uint8\n",
      "Maj2 /  uint8\n",
      "Min1 /  uint8\n",
      "Min2 /  uint8\n",
      "Mod /  uint8\n",
      "Sal /  uint8\n",
      "Sev /  uint8\n",
      "Typ /  uint8\n",
      "Ex /  uint8\n",
      "Fa /  uint8\n",
      "Gd /  uint8\n",
      "No Fireplace /  uint8\n",
      "Po /  uint8\n",
      "TA /  uint8\n",
      "2Types /  uint8\n",
      "Attchd /  uint8\n",
      "Basment /  uint8\n",
      "BuiltIn /  uint8\n",
      "CarPort /  uint8\n",
      "Detchd /  uint8\n",
      "No Garage /  uint8\n",
      "Fin /  uint8\n",
      "No Garage /  uint8\n",
      "RFn /  uint8\n",
      "Unf /  uint8\n",
      "Ex /  uint8\n",
      "Fa /  uint8\n",
      "Gd /  uint8\n",
      "No Garage /  uint8\n",
      "Po /  uint8\n",
      "TA /  uint8\n",
      "Ex /  uint8\n",
      "Fa /  uint8\n",
      "Gd /  uint8\n",
      "No Garage /  uint8\n",
      "Po /  uint8\n",
      "TA /  uint8\n",
      "N /  uint8\n",
      "P /  uint8\n",
      "Y /  uint8\n",
      "Ex /  uint8\n",
      "Fa /  uint8\n",
      "Gd /  uint8\n",
      "No Pool /  uint8\n",
      "TA /  uint8\n",
      "GdPrv /  uint8\n",
      "GdWo /  uint8\n",
      "MnPrv /  uint8\n",
      "MnWw /  uint8\n",
      "No Fence /  uint8\n",
      "COD /  uint8\n",
      "CWD /  uint8\n",
      "Con /  uint8\n",
      "ConLD /  uint8\n",
      "ConLI /  uint8\n",
      "ConLw /  uint8\n",
      "New /  uint8\n",
      "Oth /  uint8\n",
      "VWD /  uint8\n",
      "WD  /  uint8\n",
      "Abnorml /  uint8\n",
      "AdjLand /  uint8\n",
      "Alloca /  uint8\n",
      "Family /  uint8\n",
      "Normal /  uint8\n",
      "Partial /  uint8\n"
     ]
    }
   ],
   "source": [
    "dtypes = transformed_train.dtypes\n",
    "for index, row in zip(dtypes.index, dtypes):\n",
    "    print(index + ' / ', str(row))"
   ]
  },
  {
   "cell_type": "code",
   "execution_count": null,
   "metadata": {},
   "outputs": [],
   "source": []
  },
  {
   "cell_type": "code",
   "execution_count": 18,
   "metadata": {},
   "outputs": [],
   "source": [
    "\n",
    "\n",
    "def select_features(dataframe):\n",
    "    return dataframe[['Gr Liv Area', 'SalePrice']]\n",
    "\n",
    "def train_and_test(dataframe):\n",
    "    train = dataframe[:1460]\n",
    "    test = dataframe[1460:]\n",
    "    linear_model = LinearRegression()\n",
    "    train_cols = dataframe.columns.drop('SalePrice')\n",
    "    target_col = 'SalePrice'\n",
    "    linear_model.fit(dataframe[train_cols], dataframe[target_col])\n",
    "    predictions = linear_model.predict(test[train_cols])\n",
    "    return np.sqrt(mean_squared_error(test[target_col], predictions))"
   ]
  },
  {
   "cell_type": "markdown",
   "metadata": {},
   "source": [
    "## 2"
   ]
  },
  {
   "cell_type": "code",
   "execution_count": null,
   "metadata": {},
   "outputs": [],
   "source": []
  },
  {
   "cell_type": "markdown",
   "metadata": {},
   "source": [
    "##  3"
   ]
  },
  {
   "cell_type": "code",
   "execution_count": null,
   "metadata": {},
   "outputs": [],
   "source": []
  },
  {
   "cell_type": "code",
   "execution_count": null,
   "metadata": {},
   "outputs": [],
   "source": []
  },
  {
   "cell_type": "markdown",
   "metadata": {},
   "source": [
    "## 4"
   ]
  },
  {
   "cell_type": "code",
   "execution_count": null,
   "metadata": {},
   "outputs": [],
   "source": []
  },
  {
   "cell_type": "code",
   "execution_count": null,
   "metadata": {},
   "outputs": [],
   "source": []
  },
  {
   "cell_type": "markdown",
   "metadata": {},
   "source": [
    "## 5"
   ]
  },
  {
   "cell_type": "code",
   "execution_count": null,
   "metadata": {},
   "outputs": [],
   "source": []
  },
  {
   "cell_type": "code",
   "execution_count": null,
   "metadata": {},
   "outputs": [],
   "source": []
  },
  {
   "cell_type": "markdown",
   "metadata": {},
   "source": [
    "## 6"
   ]
  },
  {
   "cell_type": "code",
   "execution_count": null,
   "metadata": {},
   "outputs": [],
   "source": []
  },
  {
   "cell_type": "code",
   "execution_count": null,
   "metadata": {},
   "outputs": [],
   "source": []
  },
  {
   "cell_type": "markdown",
   "metadata": {},
   "source": [
    "## 7"
   ]
  },
  {
   "cell_type": "code",
   "execution_count": null,
   "metadata": {},
   "outputs": [],
   "source": []
  },
  {
   "cell_type": "code",
   "execution_count": null,
   "metadata": {},
   "outputs": [],
   "source": []
  },
  {
   "cell_type": "markdown",
   "metadata": {},
   "source": [
    "## 8"
   ]
  },
  {
   "cell_type": "code",
   "execution_count": null,
   "metadata": {},
   "outputs": [],
   "source": []
  },
  {
   "cell_type": "code",
   "execution_count": null,
   "metadata": {},
   "outputs": [],
   "source": []
  },
  {
   "cell_type": "markdown",
   "metadata": {},
   "source": [
    "## 9"
   ]
  },
  {
   "cell_type": "code",
   "execution_count": null,
   "metadata": {},
   "outputs": [],
   "source": []
  },
  {
   "cell_type": "code",
   "execution_count": null,
   "metadata": {},
   "outputs": [],
   "source": []
  },
  {
   "cell_type": "markdown",
   "metadata": {},
   "source": [
    "## 10"
   ]
  },
  {
   "cell_type": "code",
   "execution_count": null,
   "metadata": {},
   "outputs": [],
   "source": []
  },
  {
   "cell_type": "code",
   "execution_count": null,
   "metadata": {},
   "outputs": [],
   "source": []
  },
  {
   "cell_type": "markdown",
   "metadata": {},
   "source": [
    "## 11"
   ]
  },
  {
   "cell_type": "code",
   "execution_count": null,
   "metadata": {},
   "outputs": [],
   "source": []
  },
  {
   "cell_type": "code",
   "execution_count": null,
   "metadata": {},
   "outputs": [],
   "source": []
  },
  {
   "cell_type": "markdown",
   "metadata": {},
   "source": [
    "## 12"
   ]
  },
  {
   "cell_type": "code",
   "execution_count": null,
   "metadata": {},
   "outputs": [],
   "source": []
  },
  {
   "cell_type": "code",
   "execution_count": null,
   "metadata": {},
   "outputs": [],
   "source": []
  },
  {
   "cell_type": "markdown",
   "metadata": {},
   "source": [
    "## 13"
   ]
  },
  {
   "cell_type": "code",
   "execution_count": null,
   "metadata": {},
   "outputs": [],
   "source": []
  },
  {
   "cell_type": "code",
   "execution_count": null,
   "metadata": {},
   "outputs": [],
   "source": []
  },
  {
   "cell_type": "markdown",
   "metadata": {},
   "source": [
    "## 14"
   ]
  },
  {
   "cell_type": "code",
   "execution_count": null,
   "metadata": {},
   "outputs": [],
   "source": []
  },
  {
   "cell_type": "code",
   "execution_count": null,
   "metadata": {},
   "outputs": [],
   "source": []
  },
  {
   "cell_type": "markdown",
   "metadata": {},
   "source": [
    "## 15"
   ]
  },
  {
   "cell_type": "code",
   "execution_count": null,
   "metadata": {},
   "outputs": [],
   "source": []
  },
  {
   "cell_type": "code",
   "execution_count": null,
   "metadata": {},
   "outputs": [],
   "source": []
  }
 ],
 "metadata": {
  "kernelspec": {
   "display_name": "Python 3",
   "language": "python",
   "name": "python3"
  },
  "language_info": {
   "codemirror_mode": {
    "name": "ipython",
    "version": 3
   },
   "file_extension": ".py",
   "mimetype": "text/x-python",
   "name": "python",
   "nbconvert_exporter": "python",
   "pygments_lexer": "ipython3",
   "version": "3.7.3"
  }
 },
 "nbformat": 4,
 "nbformat_minor": 4
}
